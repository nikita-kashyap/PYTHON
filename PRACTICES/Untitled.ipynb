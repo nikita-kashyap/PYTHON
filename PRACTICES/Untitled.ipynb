{
 "cells": [
  {
   "cell_type": "code",
   "execution_count": 9,
   "id": "0057cf21",
   "metadata": {},
   "outputs": [
    {
     "name": "stdout",
     "output_type": "stream",
     "text": [
      "12\n",
      "['a', 'e', 'i', 'i', 'i', 'a', 'a', 'i', 'e', 'i', 'a', 'i']\n"
     ]
    }
   ],
   "source": [
    "def count_vowel (string,vowel):\n",
    "    v_size = [each for each in string if each in vowel]\n",
    "    print(len(v_size))\n",
    "    print(v_size) \n",
    "    \n",
    "string = \"My name is Nikita and my friend is pandit\"\n",
    "vowel = \"AaEeIiOoUu\"\n",
    "count_vowel(string, vowel)"
   ]
  },
  {
   "cell_type": "code",
   "execution_count": null,
   "id": "d9ea70e6",
   "metadata": {},
   "outputs": [],
   "source": []
  },
  {
   "cell_type": "code",
   "execution_count": null,
   "id": "5c55d6c6",
   "metadata": {},
   "outputs": [],
   "source": []
  }
 ],
 "metadata": {
  "kernelspec": {
   "display_name": "Python 3 (ipykernel)",
   "language": "python",
   "name": "python3"
  },
  "language_info": {
   "codemirror_mode": {
    "name": "ipython",
    "version": 3
   },
   "file_extension": ".py",
   "mimetype": "text/x-python",
   "name": "python",
   "nbconvert_exporter": "python",
   "pygments_lexer": "ipython3",
   "version": "3.9.12"
  }
 },
 "nbformat": 4,
 "nbformat_minor": 5
}
