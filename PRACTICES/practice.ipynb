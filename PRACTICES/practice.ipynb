{
 "cells": [
  {
   "cell_type": "code",
   "execution_count": 2,
   "id": "4b509b44",
   "metadata": {},
   "outputs": [],
   "source": [
    "a=4\n",
    "b=5\n",
    "c=a/b"
   ]
  },
  {
   "cell_type": "code",
   "execution_count": 3,
   "id": "e1f8d488",
   "metadata": {},
   "outputs": [
    {
     "data": {
      "text/plain": [
       "12"
      ]
     },
     "execution_count": 3,
     "metadata": {},
     "output_type": "execute_result"
    }
   ],
   "source": [
    "3*4"
   ]
  },
  {
   "cell_type": "code",
   "execution_count": 4,
   "id": "9f0f4dec",
   "metadata": {},
   "outputs": [],
   "source": [
    "a=4\n",
    "b=5\n",
    "c=a/b"
   ]
  },
  {
   "cell_type": "code",
   "execution_count": 5,
   "id": "11c29ac8",
   "metadata": {},
   "outputs": [
    {
     "ename": "SyntaxError",
     "evalue": "Missing parentheses in call to 'print'. Did you mean print(c)? (2774471163.py, line 4)",
     "output_type": "error",
     "traceback": [
      "\u001b[1;36m  Input \u001b[1;32mIn [5]\u001b[1;36m\u001b[0m\n\u001b[1;33m    print c\u001b[0m\n\u001b[1;37m          ^\u001b[0m\n\u001b[1;31mSyntaxError\u001b[0m\u001b[1;31m:\u001b[0m Missing parentheses in call to 'print'. Did you mean print(c)?\n"
     ]
    }
   ],
   "source": [
    "a=4\n",
    "b=5\n",
    "c=a/b\n",
    "print c"
   ]
  },
  {
   "cell_type": "code",
   "execution_count": 6,
   "id": "2f4433dd",
   "metadata": {},
   "outputs": [
    {
     "ename": "NameError",
     "evalue": "name 'C' is not defined",
     "output_type": "error",
     "traceback": [
      "\u001b[1;31m---------------------------------------------------------------------------\u001b[0m",
      "\u001b[1;31mNameError\u001b[0m                                 Traceback (most recent call last)",
      "Input \u001b[1;32mIn [6]\u001b[0m, in \u001b[0;36m<cell line: 4>\u001b[1;34m()\u001b[0m\n\u001b[0;32m      2\u001b[0m b\u001b[38;5;241m=\u001b[39m\u001b[38;5;241m5\u001b[39m\n\u001b[0;32m      3\u001b[0m c\u001b[38;5;241m=\u001b[39ma\u001b[38;5;241m/\u001b[39mb\n\u001b[1;32m----> 4\u001b[0m \u001b[38;5;28mprint\u001b[39m(\u001b[43mC\u001b[49m)\n",
      "\u001b[1;31mNameError\u001b[0m: name 'C' is not defined"
     ]
    }
   ],
   "source": [
    "a=4\n",
    "b=5\n",
    "c=a/b\n",
    "print(C)"
   ]
  },
  {
   "cell_type": "code",
   "execution_count": 7,
   "id": "6fecacce",
   "metadata": {},
   "outputs": [
    {
     "name": "stdout",
     "output_type": "stream",
     "text": [
      "0.8\n"
     ]
    }
   ],
   "source": [
    "a=4\n",
    "b=5\n",
    "c=a/b\n",
    "print(c)"
   ]
  },
  {
   "cell_type": "code",
   "execution_count": 8,
   "id": "a39b6796",
   "metadata": {},
   "outputs": [
    {
     "name": "stdout",
     "output_type": "stream",
     "text": [
      "0\n"
     ]
    }
   ],
   "source": [
    "a=4\n",
    "b=5\n",
    "c=a//b\n",
    "print(c)"
   ]
  },
  {
   "cell_type": "code",
   "execution_count": 9,
   "id": "db15aea2",
   "metadata": {},
   "outputs": [
    {
     "data": {
      "text/plain": [
       "16"
      ]
     },
     "execution_count": 9,
     "metadata": {},
     "output_type": "execute_result"
    }
   ],
   "source": [
    "4**2"
   ]
  },
  {
   "cell_type": "code",
   "execution_count": 10,
   "id": "26623134",
   "metadata": {},
   "outputs": [
    {
     "name": "stdout",
     "output_type": "stream",
     "text": [
      "nikitakashyap\n"
     ]
    }
   ],
   "source": [
    "s1=\"nikita\"\n",
    "s2=\"kashyap\"\n",
    "print(s1+s2)\n"
   ]
  },
  {
   "cell_type": "code",
   "execution_count": 11,
   "id": "6dd438e5",
   "metadata": {},
   "outputs": [
    {
     "name": "stdout",
     "output_type": "stream",
     "text": [
      "enter a value: 5\n",
      "61725\n",
      "IsArray\n",
      "IsEmpty\n"
     ]
    }
   ],
   "source": [
    "a=input(\"enter a value: \")\n",
    "s=0\n",
    "p=\"\"\n",
    "for i in range (1,int(a)+1):\n",
    "    p=a*i\n",
    "    n1=int(p)\n",
    "    s=s+n1\n",
    "print(s)\n",
    "\n",
    "def new_string(str):\n",
    "    if len(str)>=2 and str[:2]==\"Is\":\n",
    "        return str\n",
    "    return \"Is\" + str\n",
    "\n",
    "print(new_string(\"Array\"))\n",
    "print(new_string(\"IsEmpty\"))\t"
   ]
  },
  {
   "cell_type": "code",
   "execution_count": 12,
   "id": "59a69d1e",
   "metadata": {},
   "outputs": [
    {
     "name": "stdout",
     "output_type": "stream",
     "text": [
      "enter a value: nikita\n"
     ]
    },
    {
     "ename": "ValueError",
     "evalue": "invalid literal for int() with base 10: 'nikita'",
     "output_type": "error",
     "traceback": [
      "\u001b[1;31m---------------------------------------------------------------------------\u001b[0m",
      "\u001b[1;31mValueError\u001b[0m                                Traceback (most recent call last)",
      "Input \u001b[1;32mIn [12]\u001b[0m, in \u001b[0;36m<cell line: 4>\u001b[1;34m()\u001b[0m\n\u001b[0;32m      2\u001b[0m s\u001b[38;5;241m=\u001b[39m\u001b[38;5;241m0\u001b[39m\n\u001b[0;32m      3\u001b[0m p\u001b[38;5;241m=\u001b[39m\u001b[38;5;124m\"\u001b[39m\u001b[38;5;124m\"\u001b[39m\n\u001b[1;32m----> 4\u001b[0m \u001b[38;5;28;01mfor\u001b[39;00m i \u001b[38;5;129;01min\u001b[39;00m \u001b[38;5;28mrange\u001b[39m (\u001b[38;5;241m1\u001b[39m,\u001b[38;5;28;43mint\u001b[39;49m\u001b[43m(\u001b[49m\u001b[43ma\u001b[49m\u001b[43m)\u001b[49m\u001b[38;5;241m+\u001b[39m\u001b[38;5;241m1\u001b[39m):\n\u001b[0;32m      5\u001b[0m     p\u001b[38;5;241m=\u001b[39ma\u001b[38;5;241m*\u001b[39mi\n\u001b[0;32m      6\u001b[0m     n1\u001b[38;5;241m=\u001b[39m\u001b[38;5;28mint\u001b[39m(p)\n",
      "\u001b[1;31mValueError\u001b[0m: invalid literal for int() with base 10: 'nikita'"
     ]
    }
   ],
   "source": [
    "a=input(\"enter a value: \")\n",
    "s=0\n",
    "p=\"\"\n",
    "for i in range (1,int(a)+1):\n",
    "    p=a*i\n",
    "    n1=int(p)\n",
    "    s=s+n1\n",
    "print(s)\n",
    "\n",
    "def new_string(str):\n",
    "    if len(str)>=2 and str[:2]==\"Is\":\n",
    "        return str\n",
    "    return \"Is\" + str\n",
    "\n",
    "print(new_string(\"Array\"))\n",
    "print(new_string(\"IsEmpty\"))\t"
   ]
  },
  {
   "cell_type": "code",
   "execution_count": 13,
   "id": "1393e2c6",
   "metadata": {},
   "outputs": [
    {
     "name": "stdout",
     "output_type": "stream",
     "text": [
      "enter a value: 3 6 2 7 9\n"
     ]
    },
    {
     "ename": "ValueError",
     "evalue": "invalid literal for int() with base 10: '3 6 2 7 9'",
     "output_type": "error",
     "traceback": [
      "\u001b[1;31m---------------------------------------------------------------------------\u001b[0m",
      "\u001b[1;31mValueError\u001b[0m                                Traceback (most recent call last)",
      "Input \u001b[1;32mIn [13]\u001b[0m, in \u001b[0;36m<cell line: 4>\u001b[1;34m()\u001b[0m\n\u001b[0;32m      2\u001b[0m s\u001b[38;5;241m=\u001b[39m\u001b[38;5;241m0\u001b[39m\n\u001b[0;32m      3\u001b[0m p\u001b[38;5;241m=\u001b[39m\u001b[38;5;124m\"\u001b[39m\u001b[38;5;124m\"\u001b[39m\n\u001b[1;32m----> 4\u001b[0m \u001b[38;5;28;01mfor\u001b[39;00m i \u001b[38;5;129;01min\u001b[39;00m \u001b[38;5;28mrange\u001b[39m (\u001b[38;5;241m1\u001b[39m,\u001b[38;5;28;43mint\u001b[39;49m\u001b[43m(\u001b[49m\u001b[43ma\u001b[49m\u001b[43m)\u001b[49m\u001b[38;5;241m+\u001b[39m\u001b[38;5;241m1\u001b[39m):\n\u001b[0;32m      5\u001b[0m     p\u001b[38;5;241m=\u001b[39ma\u001b[38;5;241m*\u001b[39mi\n\u001b[0;32m      6\u001b[0m     n1\u001b[38;5;241m=\u001b[39m\u001b[38;5;28mint\u001b[39m(p)\n",
      "\u001b[1;31mValueError\u001b[0m: invalid literal for int() with base 10: '3 6 2 7 9'"
     ]
    }
   ],
   "source": [
    "a=input(\"enter a value: \")\n",
    "s=0\n",
    "p=\"\"\n",
    "for i in range (1,int(a)+1):\n",
    "    p=a*i\n",
    "    n1=int(p)\n",
    "    s=s+n1\n",
    "print(s)"
   ]
  },
  {
   "cell_type": "code",
   "execution_count": 14,
   "id": "0f69bfc5",
   "metadata": {},
   "outputs": [
    {
     "name": "stdout",
     "output_type": "stream",
     "text": [
      "enter a value: 2\n",
      "24\n"
     ]
    }
   ],
   "source": [
    "a=input(\"enter a value: \")\n",
    "s=0\n",
    "p=\"\"\n",
    "for i in range (1,int(a)+1):\n",
    "    p=a*i\n",
    "    n1=int(p)\n",
    "    s=s+n1\n",
    "print(s)"
   ]
  },
  {
   "cell_type": "code",
   "execution_count": 1,
   "id": "85627ceb",
   "metadata": {},
   "outputs": [
    {
     "ename": "SyntaxError",
     "evalue": "unmatched ']' (3822458666.py, line 3)",
     "output_type": "error",
     "traceback": [
      "\u001b[1;36m  Input \u001b[1;32mIn [1]\u001b[1;36m\u001b[0m\n\u001b[1;33m    MTH=np.array([80,85,90,95,99,56,98,67,45,45,65,98,48,69,98,48])                                                                                                                    ])\u001b[0m\n\u001b[1;37m                                                                                                                                                                                       ^\u001b[0m\n\u001b[1;31mSyntaxError\u001b[0m\u001b[1;31m:\u001b[0m unmatched ']'\n"
     ]
    }
   ],
   "source": [
    "import numpy as np\n",
    "import matplotlib.pyplot as plt\n",
    "MTH=np.array([80,85,90,95,99,56,98,67,45,45,65,98,48,69,98,48])                                                                                                                    ])\n",
    "ENG=np.array([78,79,37,46,68,92,74,95,22,39,77,98,84,99,45,50])\n",
    "plt.plot(MTH,ENG)\n",
    "plt.show()"
   ]
  },
  {
   "cell_type": "code",
   "execution_count": 2,
   "id": "3f1d74bd",
   "metadata": {},
   "outputs": [
    {
     "ename": "SyntaxError",
     "evalue": "unmatched ']' (2123647096.py, line 3)",
     "output_type": "error",
     "traceback": [
      "\u001b[1;36m  Input \u001b[1;32mIn [2]\u001b[1;36m\u001b[0m\n\u001b[1;33m    MTH=np.array([30,35,40,45,50,55,60,65,70,80,85,90,95,100])                                                                                                                    ])\u001b[0m\n\u001b[1;37m                                                                                                                                                                                  ^\u001b[0m\n\u001b[1;31mSyntaxError\u001b[0m\u001b[1;31m:\u001b[0m unmatched ']'\n"
     ]
    }
   ],
   "source": [
    "import numpy as np\n",
    "import matplotlib.pyplot as plt\n",
    "MTH=np.array([30,35,40,45,50,55,60,65,70,80,85,90,95,100])                                                                                                                    ])\n",
    "ENG=np.array([30,35,40,45,50,55,60,65,70,75,80,85,95,100])\n",
    "COM=np.array([30,35,40,45,50,55,60,65,70,80,85,90,95,100])\n",
    "plt.plot(MTH,ENG,COM)\n",
    "plt.show()"
   ]
  },
  {
   "cell_type": "markdown",
   "id": "9c0432e2",
   "metadata": {},
   "source": [
    "# import numpy as np\n",
    "import matplotlib.pyplot as plt\n",
    "MTH=np.array([30,35,40,45,50,55,60,65,70,80,85,90,95,100])                                                                                                                    ])\n",
    "ENG=np.array([30,35,40,45,50,55,60,65,70,75,80,85,95,100])\n",
    "COM=np.array([30,35,40,45,50,55,60,65,70,80,85,90,95,100])\n",
    "plt.scatter(MTH,ENG,COM)\n",
    "plt.show()\n"
   ]
  },
  {
   "cell_type": "code",
   "execution_count": null,
   "id": "89d52a76",
   "metadata": {},
   "outputs": [],
   "source": []
  }
 ],
 "metadata": {
  "kernelspec": {
   "display_name": "Python 3 (ipykernel)",
   "language": "python",
   "name": "python3"
  },
  "language_info": {
   "codemirror_mode": {
    "name": "ipython",
    "version": 3
   },
   "file_extension": ".py",
   "mimetype": "text/x-python",
   "name": "python",
   "nbconvert_exporter": "python",
   "pygments_lexer": "ipython3",
   "version": "3.9.12"
  }
 },
 "nbformat": 4,
 "nbformat_minor": 5
}
