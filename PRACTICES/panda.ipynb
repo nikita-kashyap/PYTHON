{
 "cells": [
  {
   "cell_type": "code",
   "execution_count": 1,
   "id": "4b3b77b8",
   "metadata": {},
   "outputs": [],
   "source": [
    "import pandas as pd\n",
    "import numpy as np\n",
    "import matplotlib.pyplot as plt"
   ]
  },
  {
   "cell_type": "code",
   "execution_count": 3,
   "id": "d2d11cf2",
   "metadata": {},
   "outputs": [
    {
     "name": "stdout",
     "output_type": "stream",
     "text": [
      "      name  roll\n",
      "0   nikita     1\n",
      "1  srishti     2\n",
      "2    abhay     3\n"
     ]
    }
   ],
   "source": [
    "data = {\n",
    "    \"name\": [\"nikita\",\"srishti\",\"abhay\"],\n",
    "    \"roll\": [1,2,3]\n",
    "}\n",
    "df = pd.DataFrame(data)\n",
    "print(df)\n"
   ]
  },
  {
   "cell_type": "code",
   "execution_count": 15,
   "id": "b714c565",
   "metadata": {},
   "outputs": [
    {
     "name": "stdout",
     "output_type": "stream",
     "text": [
      "name    nikita\n",
      "roll         1\n",
      "Name: 0, dtype: object\n"
     ]
    }
   ],
   "source": [
    "data = {\n",
    "    \"name\": [\"nikita\",\"srishti\",\"abhay\"],\n",
    "    \"roll\": [1,2,3]\n",
    "}\n",
    "df = pd.DataFrame(data)\n",
    "print(df.loc[0])\n",
    "\n",
    "#print(df.loc[0,1] is not working because of multiple agrument"
   ]
  },
  {
   "cell_type": "code",
   "execution_count": 7,
   "id": "2415640d",
   "metadata": {},
   "outputs": [
    {
     "name": "stdout",
     "output_type": "stream",
     "text": [
      "    MAT  ENG  COM\n",
      "0    60   57   56\n",
      "1    35   87   63\n",
      "2    98   51   61\n",
      "3    80   96   87\n",
      "4    76   63   35\n",
      "5    69   38   49\n",
      "6    62   34   58\n",
      "7    83   85   46\n",
      "8    96   39   38\n",
      "9    89   36   81\n",
      "10   52   82   53\n",
      "11   83   58   99\n",
      "12   78   82   39\n",
      "13   58   67   49\n",
      "14   69   46   70\n",
      "15   65   46   90\n",
      "16   97   74   50\n",
      "17   58   61   56\n",
      "18   30   45   38\n",
      "19   87   36   69\n",
      "20   70   61   75\n",
      "21   68   45   46\n",
      "22   84   91   58\n",
      "23   48   86   62\n",
      "24   82   90   66\n",
      "25   49   41   47\n",
      "26   46   39   72\n",
      "27   53   43   99\n",
      "28   47   77   88\n"
     ]
    }
   ],
   "source": [
    "df=pd.read_csv(\"C:/Users/Hp/Downloads/python.csv\")\n",
    "print(df)"
   ]
  },
  {
   "cell_type": "code",
   "execution_count": 17,
   "id": "816246bf",
   "metadata": {},
   "outputs": [
    {
     "name": "stdout",
     "output_type": "stream",
     "text": [
      "    MAT  ENG  COM\n",
      "0    60   57   56\n",
      "1    35   87   63\n",
      "2    98   51   61\n",
      "3    80   96   87\n",
      "4    76   63   35\n",
      "..  ...  ...  ...\n",
      "24   82   90   66\n",
      "25   49   41   47\n",
      "26   46   39   72\n",
      "27   53   43   99\n",
      "28   47   77   88\n",
      "\n",
      "[29 rows x 3 columns]\n"
     ]
    }
   ],
   "source": [
    "#It will take value from top 5 and bottom 5\n",
    "pd.options.display.max_rows=10\n",
    "df=pd.read_csv(\"C:/Users/Hp/Downloads/python.csv\")\n",
    "print(df)"
   ]
  },
  {
   "cell_type": "code",
   "execution_count": 3,
   "id": "bfd271e9",
   "metadata": {},
   "outputs": [
    {
     "name": "stdout",
     "output_type": "stream",
     "text": [
      "name    nikita\n",
      "roll         1\n",
      "Name: 0, dtype: object\n"
     ]
    }
   ],
   "source": [
    "newData={\n",
    "    \"name\":[\"nikita\",\"krishna\",\"srishti\",\"komal\",\"bhawna\",\"sirjan\"],\n",
    "    \"roll\":[1,2,3,4,5,6]\n",
    "}\n",
    "\n",
    "df=pd.DataFrame(newData)\n",
    "print(df.loc[0])"
   ]
  },
  {
   "cell_type": "code",
   "execution_count": 9,
   "id": "2e19955e",
   "metadata": {},
   "outputs": [
    {
     "ename": "SyntaxError",
     "evalue": "invalid syntax (415338212.py, line 9)",
     "output_type": "error",
     "traceback": [
      "\u001b[1;36m  Input \u001b[1;32mIn [9]\u001b[1;36m\u001b[0m\n\u001b[1;33m    print(df[df['attempts']2])\u001b[0m\n\u001b[1;37m                           ^\u001b[0m\n\u001b[1;31mSyntaxError\u001b[0m\u001b[1;31m:\u001b[0m invalid syntax\n"
     ]
    }
   ],
   "source": [
    "newData={\n",
    "    \"name\":[\"nikita\",\"krishna\",\"srishti\",\"komal\",\"bhawna\",\"sirjan\"],\n",
    "    \"roll\":[1,2,3,4,5,6]\n",
    "}\n",
    "\n",
    "df=pd.DataFrame(newData)\n",
    "print(\"\\n\",df[['name','roll']])\n",
    "print(\"Number of attempts in the examination is greter than 2: \")\n",
    "print(df[df['attempts']2])\n"
   ]
  },
  {
   "cell_type": "code",
   "execution_count": 12,
   "id": "5abd5698",
   "metadata": {},
   "outputs": [
    {
     "name": "stdout",
     "output_type": "stream",
     "text": [
      "     Duration  Pulse  Maxpulse  Calories\n",
      "0          60    110       130     409.1\n",
      "1          60    117       145     479.0\n",
      "2          60    103       135     340.0\n",
      "3          45    109       175     282.4\n",
      "4          45    117       148     406.0\n",
      "5          60    102       127     300.0\n",
      "6          60    110       136     374.0\n",
      "7          45    104       134     253.3\n",
      "8          30    109       133     195.1\n",
      "9          60     98       124     269.0\n",
      "10         60    103       147     329.3\n",
      "11         60    100       120     250.7\n",
      "12         60    106       128     345.3\n",
      "13         60    104       132     379.3\n",
      "14         60     98       123     275.0\n",
      "15         60     98       120     215.2\n",
      "16         60    100       120     300.0\n",
      "17         45     90       112     130.0\n",
      "18         60    103       123     323.0\n",
      "19         45     97       125     243.0\n",
      "20         60    108       131     364.2\n",
      "21         45    100       119     282.0\n",
      "22         60    130       101     300.0\n",
      "23         45    105       132     246.0\n",
      "24         60    102       126     334.5\n",
      "25         60    100       120     250.0\n",
      "26         60     92       118     241.0\n",
      "27         60    103       132     130.0\n",
      "28         60    100       132     280.0\n",
      "29         60    102       129     380.3\n",
      "30         60     92       115     243.0\n",
      "31         45     90       112     180.1\n",
      "32         60    101       124     299.0\n",
      "33         60     93       113     223.0\n",
      "34         60    107       136     361.0\n",
      "35         60    114       140     415.0\n",
      "36         60    102       127     300.0\n",
      "37         60    100       120     300.0\n",
      "38         60    100       120     300.0\n",
      "39         45    104       129     266.0\n",
      "40         45     90       112     180.1\n",
      "41         60     98       126     286.0\n",
      "42         60    100       122     329.4\n",
      "43         60    111       138     400.0\n",
      "44         60    111       131     397.0\n",
      "45         60     99       119     273.0\n",
      "46         60    109       153     387.6\n",
      "47         45    111       136     300.0\n",
      "48         45    108       129     298.0\n",
      "49         60    111       139     397.6\n",
      "50         60    107       136     380.2\n",
      "51         80    123       146     643.1\n",
      "52         60    106       130     263.0\n",
      "53         60    118       151     486.0\n",
      "54         30    136       175     238.0\n",
      "55         60    121       146     450.7\n",
      "56         60    118       121     413.0\n",
      "57         45    115       144     305.0\n",
      "58         20    153       172     226.4\n",
      "59         45    123       152     321.0\n",
      "60        210    108       160    1376.0\n",
      "61        160    110       137    1034.4\n",
      "62        160    109       135     853.0\n",
      "63         45    118       141     341.0\n",
      "64         20    110       130     131.4\n",
      "65        180     90       130     800.4\n",
      "66        150    105       135     873.4\n",
      "67        150    107       130     816.0\n",
      "68         20    106       136     110.4\n",
      "69        300    108       143    1500.2\n",
      "70        150     97       129    1115.0\n",
      "71         60    109       153     387.6\n",
      "72         90    100       127     700.0\n",
      "73        150     97       127     953.2\n",
      "74         45    114       146     304.0\n",
      "75         90     98       125     563.2\n",
      "76         45    105       134     251.0\n",
      "77         45    110       141     300.0\n",
      "78        120    100       130     500.4\n",
      "79        270    100       131    1729.0\n",
      "80         30    159       182     319.2\n",
      "81         45    149       169     344.0\n",
      "82         30    103       139     151.1\n",
      "83        120    100       130     500.0\n",
      "84         45    100       120     225.3\n",
      "85         30    151       170     300.0\n",
      "86         45    102       136     234.0\n",
      "87        120    100       157    1000.1\n",
      "88         45    129       103     242.0\n",
      "89         20     83       107      50.3\n",
      "90        180    101       127     600.1\n",
      "91         45    107       137     130.0\n",
      "92         30     90       107     105.3\n",
      "93         15     80       100      50.5\n",
      "94         20    150       171     127.4\n",
      "95         20    151       168     229.4\n",
      "96         30     95       128     128.2\n",
      "97         25    152       168     244.2\n",
      "98         30    109       131     188.2\n",
      "99         90     93       124     604.1\n",
      "100        20     95       112      77.7\n",
      "101        90     90       110     500.0\n",
      "102        90     90       100     500.0\n",
      "103        90     90       100     500.4\n",
      "104        30     92       108      92.7\n",
      "105        30     93       128     124.0\n",
      "106       180     90       120     800.3\n",
      "107        30     90       120      86.2\n",
      "108        90     90       120     500.3\n",
      "109       210    137       184    1860.4\n",
      "110        60    102       124     325.2\n",
      "111        45    107       124     275.0\n",
      "112        15    124       139     124.2\n",
      "113        45    100       120     225.3\n",
      "114        60    108       131     367.6\n",
      "115        60    108       151     351.7\n",
      "116        60    116       141     443.0\n",
      "117        60     97       122     277.4\n",
      "118        60    105       125     130.0\n",
      "119        60    103       124     332.7\n",
      "120        30    112       137     193.9\n",
      "121        45    100       120     100.7\n",
      "122        60    119       169     336.7\n",
      "123        60    107       127     344.9\n",
      "124        60    111       151     368.5\n",
      "125        60     98       122     271.0\n",
      "126        60     97       124     275.3\n",
      "127        60    109       127     382.0\n",
      "128        90     99       125     466.4\n",
      "129        60    114       151     384.0\n",
      "130        60    104       134     342.5\n",
      "131        60    107       138     357.5\n",
      "132        60    103       133     335.0\n",
      "133        60    106       132     327.5\n",
      "134        60    103       136     339.0\n",
      "135        20    136       156     189.0\n",
      "136        45    117       143     317.7\n",
      "137        45    115       137     318.0\n",
      "138        45    113       138     308.0\n",
      "139        20    141       162     222.4\n",
      "140        60    108       135     390.0\n",
      "141        60     97       127     130.0\n",
      "142        45    100       120     250.4\n",
      "143        45    122       149     335.4\n",
      "144        60    136       170     470.2\n",
      "145        45    106       126     270.8\n",
      "146        60    107       136     400.0\n",
      "147        60    112       146     361.9\n",
      "148        30    103       127     185.0\n",
      "149        60    110       150     409.4\n",
      "150        60    106       134     343.0\n",
      "151        60    109       129     353.2\n",
      "152        60    109       138     374.0\n",
      "153        30    150       167     275.8\n",
      "154        60    105       128     328.0\n",
      "155        60    111       151     368.5\n",
      "156        60     97       131     270.4\n",
      "157        60    100       120     270.4\n",
      "158        60    114       150     382.8\n",
      "159        30     80       120     240.9\n",
      "160        30     85       120     250.4\n",
      "161        45     90       130     260.4\n",
      "162        45     95       130     270.0\n",
      "163        45    100       140     280.9\n",
      "164        60    105       140     290.8\n",
      "165        60    110       145     300.0\n",
      "166        60    115       145     310.2\n",
      "167        75    120       150     320.4\n",
      "168        75    125       150     330.4\n"
     ]
    }
   ],
   "source": [
    "import pandas as pd\n",
    "df=pd.read_csv('data.csv')\n",
    "#df.dropna(inplace=True)      #entire row will be deleted\n",
    "#df.dropna(inplace=False)     #it will return NaN\n",
    "#df.fillna(130, inplace=True)  #it will replace the empty value with 130\n",
    "df[\"Calories\"].fillna(130, inplace=True)    #to replace null value in specific column named Calories\n",
    "print(df.to_string())"
   ]
  },
  {
   "cell_type": "code",
   "execution_count": 18,
   "id": "427fa78a",
   "metadata": {},
   "outputs": [
    {
     "name": "stdout",
     "output_type": "stream",
     "text": [
      "     Duration  Pulse  Maxpulse  Calories\n",
      "0          60    110       130     409.1\n",
      "1          60    117       145     479.0\n",
      "2          60    103       135     340.0\n",
      "3          45    109       175     282.4\n",
      "4          45    117       148     406.0\n",
      "5          60    102       127     300.0\n",
      "6          60    110       136     374.0\n",
      "7          45    104       134     253.3\n",
      "8          30    109       133     195.1\n",
      "9          60     98       124     269.0\n",
      "10         60    103       147     329.3\n",
      "11         60    100       120     250.7\n",
      "12         60    106       128     345.3\n",
      "13         60    104       132     379.3\n",
      "14         60     98       123     275.0\n",
      "15         60     98       120     215.2\n",
      "16         60    100       120     300.0\n",
      "17         45     90       112     318.6\n",
      "18         60    103       123     323.0\n",
      "19         45     97       125     243.0\n",
      "20         60    108       131     364.2\n",
      "21         45    100       119     282.0\n",
      "22         60    130       101     300.0\n",
      "23         45    105       132     246.0\n",
      "24         60    102       126     334.5\n",
      "25         60    100       120     250.0\n",
      "26         60     92       118     241.0\n",
      "27         60    103       132     318.6\n",
      "28         60    100       132     280.0\n",
      "29         60    102       129     380.3\n",
      "30         60     92       115     243.0\n",
      "31         45     90       112     180.1\n",
      "32         60    101       124     299.0\n",
      "33         60     93       113     223.0\n",
      "34         60    107       136     361.0\n",
      "35         60    114       140     415.0\n",
      "36         60    102       127     300.0\n",
      "37         60    100       120     300.0\n",
      "38         60    100       120     300.0\n",
      "39         45    104       129     266.0\n",
      "40         45     90       112     180.1\n",
      "41         60     98       126     286.0\n",
      "42         60    100       122     329.4\n",
      "43         60    111       138     400.0\n",
      "44         60    111       131     397.0\n",
      "45         60     99       119     273.0\n",
      "46         60    109       153     387.6\n",
      "47         45    111       136     300.0\n",
      "48         45    108       129     298.0\n",
      "49         60    111       139     397.6\n",
      "50         60    107       136     380.2\n",
      "51         80    123       146     643.1\n",
      "52         60    106       130     263.0\n",
      "53         60    118       151     486.0\n",
      "54         30    136       175     238.0\n",
      "55         60    121       146     450.7\n",
      "56         60    118       121     413.0\n",
      "57         45    115       144     305.0\n",
      "58         20    153       172     226.4\n",
      "59         45    123       152     321.0\n",
      "60        210    108       160    1376.0\n",
      "61        160    110       137    1034.4\n",
      "62        160    109       135     853.0\n",
      "63         45    118       141     341.0\n",
      "64         20    110       130     131.4\n",
      "65        180     90       130     800.4\n",
      "66        150    105       135     873.4\n",
      "67        150    107       130     816.0\n",
      "68         20    106       136     110.4\n",
      "69        300    108       143    1500.2\n",
      "70        150     97       129    1115.0\n",
      "71         60    109       153     387.6\n",
      "72         90    100       127     700.0\n",
      "73        150     97       127     953.2\n",
      "74         45    114       146     304.0\n",
      "75         90     98       125     563.2\n",
      "76         45    105       134     251.0\n",
      "77         45    110       141     300.0\n",
      "78        120    100       130     500.4\n",
      "79        270    100       131    1729.0\n",
      "80         30    159       182     319.2\n",
      "81         45    149       169     344.0\n",
      "82         30    103       139     151.1\n",
      "83        120    100       130     500.0\n",
      "84         45    100       120     225.3\n",
      "85         30    151       170     300.0\n",
      "86         45    102       136     234.0\n",
      "87        120    100       157    1000.1\n",
      "88         45    129       103     242.0\n",
      "89         20     83       107      50.3\n",
      "90        180    101       127     600.1\n",
      "91         45    107       137     318.6\n",
      "92         30     90       107     105.3\n",
      "93         15     80       100      50.5\n",
      "94         20    150       171     127.4\n",
      "95         20    151       168     229.4\n",
      "96         30     95       128     128.2\n",
      "97         25    152       168     244.2\n",
      "98         30    109       131     188.2\n",
      "99         90     93       124     604.1\n",
      "100        20     95       112      77.7\n",
      "101        90     90       110     500.0\n",
      "102        90     90       100     500.0\n",
      "103        90     90       100     500.4\n",
      "104        30     92       108      92.7\n",
      "105        30     93       128     124.0\n",
      "106       180     90       120     800.3\n",
      "107        30     90       120      86.2\n",
      "108        90     90       120     500.3\n",
      "109       210    137       184    1860.4\n",
      "110        60    102       124     325.2\n",
      "111        45    107       124     275.0\n",
      "112        15    124       139     124.2\n",
      "113        45    100       120     225.3\n",
      "114        60    108       131     367.6\n",
      "115        60    108       151     351.7\n",
      "116        60    116       141     443.0\n",
      "117        60     97       122     277.4\n",
      "118        60    105       125     318.6\n",
      "119        60    103       124     332.7\n",
      "120        30    112       137     193.9\n",
      "121        45    100       120     100.7\n",
      "122        60    119       169     336.7\n",
      "123        60    107       127     344.9\n",
      "124        60    111       151     368.5\n",
      "125        60     98       122     271.0\n",
      "126        60     97       124     275.3\n",
      "127        60    109       127     382.0\n",
      "128        90     99       125     466.4\n",
      "129        60    114       151     384.0\n",
      "130        60    104       134     342.5\n",
      "131        60    107       138     357.5\n",
      "132        60    103       133     335.0\n",
      "133        60    106       132     327.5\n",
      "134        60    103       136     339.0\n",
      "135        20    136       156     189.0\n",
      "136        45    117       143     317.7\n",
      "137        45    115       137     318.0\n",
      "138        45    113       138     308.0\n",
      "139        20    141       162     222.4\n",
      "140        60    108       135     390.0\n",
      "141        60     97       127     318.6\n",
      "142        45    100       120     250.4\n",
      "143        45    122       149     335.4\n",
      "144        60    136       170     470.2\n",
      "145        45    106       126     270.8\n",
      "146        60    107       136     400.0\n",
      "147        60    112       146     361.9\n",
      "148        30    103       127     185.0\n",
      "149        60    110       150     409.4\n",
      "150        60    106       134     343.0\n",
      "151        60    109       129     353.2\n",
      "152        60    109       138     374.0\n",
      "153        30    150       167     275.8\n",
      "154        60    105       128     328.0\n",
      "155        60    111       151     368.5\n",
      "156        60     97       131     270.4\n",
      "157        60    100       120     270.4\n",
      "158        60    114       150     382.8\n",
      "159        30     80       120     240.9\n",
      "160        30     85       120     250.4\n",
      "161        45     90       130     260.4\n",
      "162        45     95       130     270.0\n",
      "163        45    100       140     280.9\n",
      "164        60    105       140     290.8\n",
      "165        60    110       145     300.0\n",
      "166        60    115       145     310.2\n",
      "167        75    120       150     320.4\n",
      "168        75    125       150     330.4\n"
     ]
    }
   ],
   "source": [
    "df=pd.read_csv('data.csv')\n",
    "#df.dropna(inplace=True)      #entire row will be deleted\n",
    "#df.dropna(inplace=False)     #it will return NaN\n",
    "#df.fillna(130, inplace=True)  #it will replace the empty value with 130\n",
    "x=df[\"Calories\"].median()     #using median method\n",
    "df[\"Calories\"].fillna(x, inplace=True)    #to replace null value in median method\n",
    "print(df.to_string())"
   ]
  },
  {
   "cell_type": "code",
   "execution_count": 27,
   "id": "6b66d082",
   "metadata": {},
   "outputs": [
    {
     "name": "stdout",
     "output_type": "stream",
     "text": [
      "<bound method DataFrame.to_string of      Duration  Pulse  Maxpulse  Calories\n",
      "0          60    110       130     409.1\n",
      "1          60    117       145     479.0\n",
      "2          60    103       135     340.0\n",
      "3          45    109       175     282.4\n",
      "4          45    117       148     406.0\n",
      "..        ...    ...       ...       ...\n",
      "164        60    105       140     290.8\n",
      "165        60    110       145     300.0\n",
      "166        60    115       145     310.2\n",
      "167        75    120       150     320.4\n",
      "168        75    125       150     330.4\n",
      "\n",
      "[169 rows x 4 columns]>\n"
     ]
    }
   ],
   "source": [
    "df=pd.read_csv('data.csv')\n",
    "#df[\"Date\"]=pd.to_datetime(df[\"Date\"]) #convert the column formate into date type\n",
    "print(df.to_string)                   #NaT(not a Time)\n",
    "#pd.dropna(subset=['Date'], inplace=True)\n",
    "df.loc[7,'Duration']=45               #set the value for duration that is 45 in row 7"
   ]
  },
  {
   "cell_type": "code",
   "execution_count": 30,
   "id": "7abb7281",
   "metadata": {},
   "outputs": [
    {
     "name": "stdout",
     "output_type": "stream",
     "text": [
      "<bound method DataFrame.to_string of      Duration  Pulse  Maxpulse  Calories\n",
      "0          60    110       130     409.1\n",
      "1          60    117       145     479.0\n",
      "2          60    103       135     340.0\n",
      "3          45    109       175     282.4\n",
      "4          45    117       148     406.0\n",
      "..        ...    ...       ...       ...\n",
      "164        60    105       140     290.8\n",
      "165        60    110       145     300.0\n",
      "166        60    115       145     310.2\n",
      "167        75    120       150     320.4\n",
      "168        75    125       150     330.4\n",
      "\n",
      "[169 rows x 4 columns]>\n"
     ]
    }
   ],
   "source": [
    "df=pd.read_csv('data.csv')\n",
    "df.loc[7,'Duration']=45  \n",
    "print(df.to_string) \n"
   ]
  },
  {
   "cell_type": "code",
   "execution_count": 29,
   "id": "6f0e5458",
   "metadata": {},
   "outputs": [],
   "source": [
    "#delete rows where \"Duration\" is higher "
   ]
  },
  {
   "cell_type": "code",
   "execution_count": 19,
   "id": "bdb12900",
   "metadata": {},
   "outputs": [
    {
     "name": "stdout",
     "output_type": "stream",
     "text": [
      "['ENG'] ['MTH']\n"
     ]
    }
   ],
   "source": [
    "df=pd.read_csv(\"C:/Users/Hp/Downloads/python.csv\")\n",
    "x=[\"ENG\"]\n",
    "y=[\"MTH\"]\n",
    "print(x,y)"
   ]
  },
  {
   "cell_type": "code",
   "execution_count": 2,
   "id": "66d44130",
   "metadata": {},
   "outputs": [
    {
     "name": "stdout",
     "output_type": "stream",
     "text": [
      "Original DataFrame:\n",
      "   school_code class            name date_Of_Birth   age  height  weight  \\\n",
      "S1        s001     V  Alberto Franco     15/05/2002   12     173      35   \n",
      "S2        s002     V    Gino Mcneill     17/05/2002   12     192      32   \n",
      "S3        s003    VI     Ryan Parkes     16/02/1999   13     186      33   \n",
      "S4        s001    VI    Eesha Hinton     25/09/1998   13     167      30   \n",
      "S5        s002     V    Gino Mcneill     11/05/2002   14     151      31   \n",
      "S6        s004    VI    David Parkes     15/09/1997   12     159      32   \n",
      "\n",
      "    address  \n",
      "S1  street1  \n",
      "S2  street2  \n",
      "S3  street3  \n",
      "S4  street1  \n",
      "S5  street2  \n",
      "S6  street4  \n",
      "\n",
      "Split the said data on school_code wise:\n",
      "Call school code 's001':\n",
      "   school_code class            name date_Of_Birth   age  height  weight  \\\n",
      "S1        s001     V  Alberto Franco     15/05/2002   12     173      35   \n",
      "S4        s001    VI    Eesha Hinton     25/09/1998   13     167      30   \n",
      "\n",
      "    address  \n",
      "S1  street1  \n",
      "S4  street1  \n",
      "\n",
      "Call school code 's004':\n",
      "   school_code class          name date_Of_Birth   age  height  weight  \\\n",
      "S6        s004    VI  David Parkes     15/09/1997   12     159      32   \n",
      "\n",
      "    address  \n",
      "S6  street4  \n"
     ]
    }
   ],
   "source": [
    "import pandas as pd\n",
    "pd.set_option('display.max_rows', None)\n",
    "#pd.set_option('display.max_columns', None)\n",
    "student_data = pd.DataFrame({\n",
    "'school_code': ['s001','s002','s003','s001','s002','s004'],\n",
    "'class': ['V', 'V', 'VI', 'VI', 'V', 'VI'],\n",
    "'name': ['Alberto Franco','Gino Mcneill','Ryan Parkes', 'Eesha Hinton', 'Gino Mcneill', 'David Parkes'],\n",
    "'date_Of_Birth ': ['15/05/2002','17/05/2002','16/02/1999','25/09/1998','11/05/2002','15/09/1997'],\n",
    "'age': [12, 12, 13, 13, 14, 12],\n",
    "'height': [173, 192, 186, 167, 151, 159],\n",
    "'weight': [35, 32, 33, 30, 31, 32],\n",
    "'address': ['street1', 'street2', 'street3', 'street1', 'street2', 'street4']},\n",
    "index=['S1', 'S2', 'S3', 'S4', 'S5', 'S6'])\n",
    "print(\"Original DataFrame:\")\n",
    "print(student_data)\n",
    "print('\\nSplit the said data on school_code wise:')\n",
    "grouped = student_data.groupby(['school_code']) #group by school code\n",
    "print(\"Call school code 's001':\")\n",
    "print(grouped.get_group('s001'))    #calling  specific school code\n",
    "print(\"\\nCall school code 's004':\")\n",
    "print(grouped.get_group('s004'))"
   ]
  },
  {
   "cell_type": "code",
   "execution_count": 4,
   "id": "9decb8e2",
   "metadata": {},
   "outputs": [
    {
     "data": {
      "image/png": "[encoded data removed]",
      "text/plain": [
       "<Figure size 360x360 with 1 Axes>"
      ]
     },
     "metadata": {
      "needs_background": "light"
     },
     "output_type": "display_data"
    }
   ],
   "source": [
    "#Write a Pandas program to create a line plot of the historical stock prices of Alphabet Inc. between two specific dates.\n",
    "\n",
    "df=pd.read_csv(\"C:/Users/Hp/Downloads/alphabet_stock_data.csv\")\n",
    "start_date = pd.to_datetime('2020-4-1')\n",
    "end_date = pd.to_datetime('2020-09-30')\n",
    "df['Date'] = pd.to_datetime(df['Date'])\n",
    "new_df = (df['Date']>= start_date) & (df['Date']<= end_date)\n",
    "df1 = df.loc[new_df]\n",
    "df2 = df1.set_index('Date')\n",
    "plt.figure(figsize=(5,5))\n",
    "plt.suptitle('Stock prices of Alphabet Inc.,\\n01-04-2020 to 30-09-2020', \\\n",
    "fontsize=18, color='black')\n",
    "plt.xlabel(\"Date\",fontsize=16, color='black')\n",
    "plt.ylabel(\"$ price\", fontsize=16, color='black')\n",
    "\n",
    "df2['Close'].plot(color='green');\n",
    "plt.show()"
   ]
  },
  {
   "cell_type": "code",
   "execution_count": 9,
   "id": "d1178ff6",
   "metadata": {},
   "outputs": [
    {
     "data": {
      "image/png": "[encoded data removed]",
      "text/plain": [
       "<Figure size 432x432 with 1 Axes>"
      ]
     },
     "metadata": {
      "needs_background": "light"
     },
     "output_type": "display_data"
    }
   ],
   "source": [
    "#Write a Pandas program to create a bar plot of the trading volume of Alphabet Inc. stock between two specific dates.\n",
    "\n",
    "df=pd.read_csv(\"C:/Users/Hp/Downloads/alphabet_stock_data.csv\")\n",
    "start_date = pd.to_datetime('2020-4-1')\n",
    "end_date = pd.to_datetime('2020-4-30')\n",
    "df['Date'] = pd.to_datetime(df['Date'])\n",
    "new_df = (df['Date']>= start_date) & (df['Date']<= end_date)\n",
    "df1 = df.loc[new_df]\n",
    "df2 = df1.set_index('Date')\n",
    "plt.figure(figsize=(6,6))\n",
    "plt.suptitle('Trading Volume of Alphabet Inc. stock,\\n01-04-2020 to 30-04-2020', fontsize=16, color='black')\n",
    "plt.xlabel(\"Date\",fontsize=12, color='black')\n",
    "plt.ylabel(\"Trading Volume\", fontsize=12, color='black')\n",
    "df2['Volume'].plot(kind='bar');\n",
    "plt.show()"
   ]
  },
  {
   "cell_type": "code",
   "execution_count": 10,
   "id": "fbcadc50",
   "metadata": {},
   "outputs": [
    {
     "data": {
      "text/plain": [
       "<Figure size 1440x1440 with 0 Axes>"
      ]
     },
     "metadata": {},
     "output_type": "display_data"
    },
    {
     "data": {
      "image/png": "[encoded data removed]",
      "text/plain": [
       "<Figure size 432x288 with 1 Axes>"
      ]
     },
     "metadata": {
      "needs_background": "light"
     },
     "output_type": "display_data"
    }
   ],
   "source": [
    "#Write a Pandas program to create a horizontal stacked bar plot of opening, closing stock prices of Alphabet Inc. between two specific dates.\n",
    "\n",
    "df=pd.read_csv(\"C:/Users/Hp/Downloads/alphabet_stock_data.csv\")\n",
    "start_date = pd.to_datetime('2020-4-1')\n",
    "end_date = pd.to_datetime('2020-4-30')                         \n",
    "df['Date'] = pd.to_datetime(df['Date']) \n",
    "new_df = (df['Date']>= start_date) & (df['Date']<= end_date)\n",
    "df1 = df.loc[new_df]\n",
    "df2 = df1[['Date', 'Open', 'Close']]\n",
    "df3 = df2.set_index('Date')\n",
    "plt.figure(figsize=(20,20))\n",
    "df3.plot.barh(stacked=True)\n",
    "plt.suptitle('Opening/Closing stock prices Alphabet Inc.,\\n01-04-2020 to 30-04-2020', fontsize=12, color='black')\n",
    "plt.show()"
   ]
  },
  {
   "cell_type": "code",
   "execution_count": 22,
   "id": "debcaa9b",
   "metadata": {},
   "outputs": [
    {
     "ename": "ModuleNotFoundError",
     "evalue": "No module named 'panda_datareader'",
     "output_type": "error",
     "traceback": [
      "\u001b[1;31m---------------------------------------------------------------------------\u001b[0m",
      "\u001b[1;31mModuleNotFoundError\u001b[0m                       Traceback (most recent call last)",
      "Input \u001b[1;32mIn [22]\u001b[0m, in \u001b[0;36m<cell line: 1>\u001b[1;34m()\u001b[0m\n\u001b[1;32m----> 1\u001b[0m \u001b[38;5;28;01mimport\u001b[39;00m \u001b[38;5;21;01mpanda_datareader\u001b[39;00m\u001b[38;5;21;01m.\u001b[39;00m\u001b[38;5;21;01mdata\u001b[39;00m \u001b[38;5;28;01mas\u001b[39;00m \u001b[38;5;21;01mweb\u001b[39;00m\n\u001b[0;32m      3\u001b[0m df \u001b[38;5;241m=\u001b[39mweb\u001b[38;5;241m.\u001b[39mdatareader(\u001b[38;5;124m'\u001b[39m\u001b[38;5;124mGE\u001b[39m\u001b[38;5;124m'\u001b[39m, \u001b[38;5;124m'\u001b[39m\u001b[38;5;124myahoo\u001b[39m\u001b[38;5;124m'\u001b[39m, start\u001b[38;5;241m=\u001b[39m\u001b[38;5;124m'\u001b[39m\u001b[38;5;124m2019-09-10\u001b[39m\u001b[38;5;124m'\u001b[39m, end\u001b[38;5;241m=\u001b[39m\u001b[38;5;124m'\u001b[39m\u001b[38;5;124m2019-10-09\u001b[39m\u001b[38;5;124m'\u001b[39m)\n\u001b[0;32m      4\u001b[0m df\u001b[38;5;241m.\u001b[39mhead()\n",
      "\u001b[1;31mModuleNotFoundError\u001b[0m: No module named 'panda_datareader'"
     ]
    }
   ],
   "source": [
    "import panda_datareader.data as web\n",
    "\n",
    "df =web.datareader('GE', 'yahoo', start='2019-09-10', end='2019-10-09')\n",
    "df.head()"
   ]
  },
  {
   "cell_type": "code",
   "execution_count": 23,
   "id": "a8ade184",
   "metadata": {},
   "outputs": [
    {
     "name": "stdout",
     "output_type": "stream",
     "text": [
      "          Date  series      OPEN      HIGH       LOW  PREV. CLOSE       ltp   \\\n",
      "0   31-Oct-2022      EQ  1,275.00  1,326.00  1,272.25     1,272.30  1,317.45   \n",
      "1   28-Oct-2022      EQ  1,271.00  1,281.30  1,254.00     1,285.15  1,267.05   \n",
      "2   27-Oct-2022      EQ  1,301.00  1,310.55  1,276.00     1,299.90  1,287.65   \n",
      "3   25-Oct-2022      EQ  1,303.45  1,313.00  1,286.80     1,296.95  1,301.90   \n",
      "4   24-Oct-2022      EQ  1,278.00  1,300.00  1,277.00     1,286.90  1,297.75   \n",
      "5   21-Oct-2022      EQ  1,285.35  1,295.50  1,275.35     1,278.95  1,287.15   \n",
      "6   20-Oct-2022      EQ  1,293.80  1,323.00  1,272.00     1,294.45  1,287.80   \n",
      "7   19-Oct-2022      EQ  1,312.40  1,312.40  1,284.05     1,312.40  1,290.00   \n",
      "8   18-Oct-2022      EQ  1,313.00  1,330.00  1,301.00     1,310.55  1,309.00   \n",
      "9   17-Oct-2022      EQ  1,310.00  1,323.05  1,301.05     1,310.45  1,307.00   \n",
      "10  14-Oct-2022      EQ  1,324.95  1,339.45  1,299.00     1,317.30  1,315.00   \n",
      "11  13-Oct-2022      EQ  1,349.90  1,354.90  1,301.00     1,349.30  1,321.00   \n",
      "12  12-Oct-2022      EQ  1,368.35  1,377.70  1,335.00     1,361.50  1,352.20   \n",
      "13  11-Oct-2022      EQ  1,435.00  1,435.60  1,350.10     1,428.45  1,364.50   \n",
      "14  10-Oct-2022      EQ  1,445.00  1,446.10  1,420.00     1,460.65  1,433.80   \n",
      "15  07-Oct-2022      EQ  1,421.00  1,500.00  1,393.75     1,423.75  1,460.00   \n",
      "16  06-Oct-2022      EQ  1,399.00  1,439.85  1,392.80     1,392.80  1,423.10   \n",
      "17  04-Oct-2022      EQ  1,402.00  1,419.00  1,377.90     1,392.55  1,391.00   \n",
      "18  03-Oct-2022      EQ  1,424.00  1,435.45  1,371.95     1,424.75  1,403.05   \n",
      "\n",
      "      close      vwap     52W H     52W L   VOLUME           VALUE   \\\n",
      "0   1,319.70  1,304.81  2,970.00  1,254.00    31420   40,997,233.00   \n",
      "1   1,272.30  1,270.53  2,970.00  1,254.00    11313   14,373,505.30   \n",
      "2   1,285.15  1,283.01  2,970.00  1,272.00    36252   46,511,776.20   \n",
      "3   1,299.90  1,298.24  2,970.00  1,272.00    14632   18,995,839.85   \n",
      "4   1,296.95  1,291.59  2,970.00  1,272.00     4155    5,366,564.40   \n",
      "5   1,286.90  1,288.45  2,970.00  1,272.00    12660   16,311,787.85   \n",
      "6   1,278.95  1,296.03  2,970.00  1,272.00    25159   32,606,834.40   \n",
      "7   1,294.45  1,297.41  2,970.00  1,284.05    28272   36,680,347.05   \n",
      "8   1,312.40  1,313.64  2,970.00  1,299.00    20329   26,705,038.60   \n",
      "9   1,310.55  1,307.62  2,970.00  1,299.00    20799   27,197,145.20   \n",
      "10  1,310.45  1,318.38  2,970.00  1,299.00    51122   67,397,989.10   \n",
      "11  1,317.30  1,316.76  2,970.00  1,301.00    30759   40,502,241.70   \n",
      "12  1,349.30  1,352.40  2,970.00  1,335.00    35105   47,475,999.70   \n",
      "13  1,361.50  1,386.19  2,970.00  1,350.10    38394   53,221,347.45   \n",
      "14  1,428.45  1,431.33  2,970.00  1,371.95    15815   22,636,514.25   \n",
      "15  1,460.65  1,457.15  2,970.00  1,371.95   137881  200,913,637.80   \n",
      "16  1,423.75  1,419.54  2,970.00  1,371.95    60308   85,609,830.60   \n",
      "17  1,392.80  1,393.09  2,970.00  1,371.95    31963   44,527,424.15   \n",
      "18  1,392.55  1,395.77  2,970.00  1,371.95    20476   28,579,813.00   \n",
      "\n",
      "    No of trades   \n",
      "0            5522  \n",
      "1            2485  \n",
      "2            5595  \n",
      "3            2010  \n",
      "4             670  \n",
      "5            2045  \n",
      "6            3750  \n",
      "7            5217  \n",
      "8            4938  \n",
      "9            2920  \n",
      "10           5763  \n",
      "11           4978  \n",
      "12           7054  \n",
      "13           6918  \n",
      "14           4136  \n",
      "15          11894  \n",
      "16          11502  \n",
      "17          11411  \n",
      "18           4348  \n"
     ]
    }
   ],
   "source": [
    "df=pd.read_csv(\"C:/Users/Hp/Downloads/Quote-Equity-ECLERX-EQ-01-10-2022-to-01-11-2022.csv\")\n",
    "print(df)"
   ]
  },
  {
   "cell_type": "code",
   "execution_count": 19,
   "id": "706de5b5",
   "metadata": {},
   "outputs": [
    {
     "name": "stdout",
     "output_type": "stream",
     "text": [
      "Original Orders DataFrame:\n",
      "     ord_no  purch_amt    ord_date  customer_id\n",
      "0       NaN        NaN         NaN          NaN\n",
      "1       NaN     270.65  2012-09-10       3001.0\n",
      "2   70002.0      65.26         NaN       3001.0\n",
      "3       NaN        NaN         NaN          NaN\n",
      "4       NaN     948.50  2012-09-10       3002.0\n",
      "5   70005.0    2400.60  2012-07-27       3001.0\n",
      "6       NaN    5760.00  2012-09-10       3001.0\n",
      "7   70010.0    1983.43  2012-10-10       3004.0\n",
      "8   70003.0    2480.40  2012-10-10       3003.0\n",
      "9   70012.0     250.45  2012-06-27       3002.0\n",
      "10      NaN      75.29  2012-08-17       3001.0\n",
      "11      NaN        NaN         NaN          NaN\n",
      "\n",
      "Keep the said DataFrame with valid entries:\n",
      "    ord_no  purch_amt    ord_date  customer_id\n",
      "5  70005.0    2400.60  2012-07-27       3001.0\n",
      "7  70010.0    1983.43  2012-10-10       3004.0\n",
      "8  70003.0    2480.40  2012-10-10       3003.0\n",
      "9  70012.0     250.45  2012-06-27       3002.0\n"
     ]
    }
   ],
   "source": [
    "#df=pd.read_csv(\"C:/Users/Hp/Downloads/book1.csv\")\n",
    "pd.set_option('display.max_rows', None)\n",
    "#pd.set_option('display.max_columns', None)\n",
    "df = pd.DataFrame({\n",
    "'ord_no':[np.nan,np.nan,70002,np.nan,np.nan,70005,np.nan,70010,70003,70012,np.nan,np.nan],\n",
    "'purch_amt':[np.nan,270.65,65.26,np.nan,948.5,2400.6,5760,1983.43,2480.4,250.45, 75.29,np.nan],\n",
    "'ord_date': [np.nan,'2012-09-10',np.nan,np.nan,'2012-09-10','2012-07-27','2012-09-10','2012-10-10','2012-10-10','2012-06-27','2012-08-17',np.nan],\n",
    "'customer_id':[np.nan,3001,3001,np.nan,3002,3001,3001,3004,3003,3002,3001,np.nan]})\n",
    "print(\"Original Orders DataFrame:\")\n",
    "print(df)\n",
    "print(\"\\nKeep the said DataFrame with valid entries:\")\n",
    "result = df.dropna(inplace=False)\n",
    "print(result)"
   ]
  },
  {
   "cell_type": "code",
   "execution_count": 28,
   "id": "cc41e6a5",
   "metadata": {},
   "outputs": [
    {
     "name": "stdout",
     "output_type": "stream",
     "text": [
      "    ord_no  purch_amt    ord_date  customer_id\n",
      "5  70005.0    2400.60  27-07-2012       3001.0\n",
      "7  70010.0   67767.80  10-10-2012       3004.0\n",
      "8  70003.0    2344.89  10-10-2012       3002.0\n",
      "9  70012.0     450.67  27-06-2012       3001.0\n"
     ]
    }
   ],
   "source": [
    "df=pd.read_csv(\"C:/Users/Hp/Downloads/book2.csv\")\n",
    "res=df.dropna(inplace=False)  \n",
    "print(res)"
   ]
  },
  {
   "cell_type": "code",
   "execution_count": 26,
   "id": "e3cac863",
   "metadata": {},
   "outputs": [
    {
     "name": "stdout",
     "output_type": "stream",
     "text": [
      "Original Orders DataFrame:\n",
      "     ord_no  purch_amt  sale_amt    ord_date  customer_id  salesman_id\n",
      "0   70001.0     150.50     10.50  2012-10-05         3002       5002.0\n",
      "1       NaN        NaN     20.65  2012-09-10         3001       5003.0\n",
      "2   70002.0      65.26       NaN         NaN         3001       5001.0\n",
      "3   70004.0     110.50     11.50  2012-08-17         3003          NaN\n",
      "4       NaN     948.50     98.50  2012-09-10         3002       5002.0\n",
      "5   70005.0        NaN       NaN  2012-07-27         3001       5001.0\n",
      "6       NaN    5760.00     57.00  2012-09-10         3001       5001.0\n",
      "7   70010.0    1983.43     19.43  2012-10-10         3004          NaN\n",
      "8   70003.0        NaN       NaN  2012-10-10         3003       5003.0\n",
      "9   70012.0     250.45     25.45  2012-06-27         3002       5002.0\n",
      "10      NaN      75.29     75.29  2012-08-17         3001       5003.0\n",
      "11  70013.0    3045.60     35.60  2012-04-25         3001          NaN\n",
      "Using median in purch_amt to replace NaN:\n",
      "     ord_no  purch_amt  sale_amt    ord_date  customer_id  salesman_id\n",
      "0   70001.0     150.50     10.50  2012-10-05         3002       5002.0\n",
      "1       NaN     250.45     20.65  2012-09-10         3001       5003.0\n",
      "2   70002.0      65.26       NaN         NaN         3001       5001.0\n",
      "3   70004.0     110.50     11.50  2012-08-17         3003          NaN\n",
      "4       NaN     948.50     98.50  2012-09-10         3002       5002.0\n",
      "5   70005.0     250.45       NaN  2012-07-27         3001       5001.0\n",
      "6       NaN    5760.00     57.00  2012-09-10         3001       5001.0\n",
      "7   70010.0    1983.43     19.43  2012-10-10         3004          NaN\n",
      "8   70003.0     250.45       NaN  2012-10-10         3003       5003.0\n",
      "9   70012.0     250.45     25.45  2012-06-27         3002       5002.0\n",
      "10      NaN      75.29     75.29  2012-08-17         3001       5003.0\n",
      "11  70013.0    3045.60     35.60  2012-04-25         3001          NaN\n",
      "Using mean to replace NaN:\n",
      "     ord_no  purch_amt  sale_amt    ord_date  customer_id  salesman_id\n",
      "0   70001.0     150.50     10.50  2012-10-05         3002       5002.0\n",
      "1       NaN     250.45     20.65  2012-09-10         3001       5003.0\n",
      "2   70002.0      65.26     39.00         NaN         3001       5001.0\n",
      "3   70004.0     110.50     11.50  2012-08-17         3003          NaN\n",
      "4       NaN     948.50     98.50  2012-09-10         3002       5002.0\n",
      "5   70005.0     250.45     39.00  2012-07-27         3001       5001.0\n",
      "6       NaN    5760.00     57.00  2012-09-10         3001       5001.0\n",
      "7   70010.0    1983.43     19.43  2012-10-10         3004          NaN\n",
      "8   70003.0     250.45     39.00  2012-10-10         3003       5003.0\n",
      "9   70012.0     250.45     25.45  2012-06-27         3002       5002.0\n",
      "10      NaN      75.29     75.29  2012-08-17         3001       5003.0\n",
      "11  70013.0    3045.60     35.60  2012-04-25         3001          NaN\n"
     ]
    }
   ],
   "source": [
    "pd.set_option('display.max_rows', None)\n",
    "#pd.set_option('display.max_columns', None)\n",
    "df = pd.DataFrame({\n",
    "'ord_no':[70001,np.nan,70002,70004,np.nan,70005,np.nan,70010,70003,70012,np.nan,70013],\n",
    "'purch_amt':[150.5,np.nan,65.26,110.5,948.5,np.nan,5760,1983.43,np.nan,250.45, 75.29,3045.6],\n",
    "'sale_amt':[10.5,20.65,np.nan,11.5,98.5,np.nan,57,19.43,np.nan,25.45, 75.29,35.6],\n",
    "'ord_date': ['2012-10-05','2012-09-10',np.nan,'2012-08-17','2012-09-10','2012-07-27','2012-09-10','2012-10-10','2012-10-10','2012-06-27','2012-08-17','2012-04-25'],\n",
    "'customer_id':[3002,3001,3001,3003,3002,3001,3001,3004,3003,3002,3001,3001],\n",
    "'salesman_id':[5002,5003,5001,np.nan,5002,5001,5001,np.nan,5003,5002,5003,np.nan]})\n",
    "print(\"Original Orders DataFrame:\")\n",
    "print(df)\n",
    "print(\"Using median in purch_amt to replace NaN:\")\n",
    "df['purch_amt'].fillna(df['purch_amt'].median(), inplace=True)\n",
    "print(df)\n",
    "print(\"Using mean to replace NaN:\")\n",
    "df['sale_amt'].fillna(int(df['sale_amt'].mean()), inplace=True)\n",
    "print(df)"
   ]
  },
  {
   "cell_type": "code",
   "execution_count": null,
   "id": "146dd7a7",
   "metadata": {},
   "outputs": [],
   "source": []
  }
 ],
 "metadata": {
  "kernelspec": {
   "display_name": "Python 3 (ipykernel)",
   "language": "python",
   "name": "python3"
  },
  "language_info": {
   "codemirror_mode": {
    "name": "ipython",
    "version": 3
   },
   "file_extension": ".py",
   "mimetype": "text/x-python",
   "name": "python",
   "nbconvert_exporter": "python",
   "pygments_lexer": "ipython3",
   "version": "3.9.12"
  }
 },
 "nbformat": 4,
 "nbformat_minor": 5
}
